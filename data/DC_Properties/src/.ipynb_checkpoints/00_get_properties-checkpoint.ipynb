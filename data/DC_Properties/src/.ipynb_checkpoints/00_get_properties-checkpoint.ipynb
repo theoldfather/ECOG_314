{
 "metadata": {
  "anaconda-cloud": {},
  "kernelspec": {
   "display_name": "Python [Root]",
   "language": "python",
   "name": "Python [Root]"
  },
  "language_info": {
   "codemirror_mode": {
    "name": "ipython",
    "version": 2
   },
   "file_extension": ".py",
   "mimetype": "text/x-python",
   "name": "python",
   "nbconvert_exporter": "python",
   "pygments_lexer": "ipython2",
   "version": "2.7.12"
  },
  "name": "",
  "signature": "sha256:d804b2863346a236b9077749cd665a17be881a9016edf21613530bd44d3a3de6"
 },
 "nbformat": 3,
 "nbformat_minor": 0,
 "worksheets": [
  {
   "cells": [
    {
     "cell_type": "heading",
     "level": 1,
     "metadata": {},
     "source": [
      "DC Properties"
     ]
    },
    {
     "cell_type": "code",
     "collapsed": false,
     "input": [
      "import requests as r\n",
      "import mechanize\n",
      "from bs4 import BeautifulSoup as soup\n",
      "import json\n",
      "import pandas as pd\n",
      "import re\n",
      "from tqdm import tqdm,tqdm_notebook\n",
      "\n",
      "def clean_str(s):\n",
      "    txt =  s.replace(\"\\n\",\" \").replace(\"\\t\",\"\").strip().encode(\"utf-8\",\"ignore\")\n",
      "    txt = txt.replace(\"\\r\",\" \")\n",
      "    txt = re.sub(r'\\xc2|\\xa0',' ',txt)\n",
      "    return txt\n",
      "\n",
      "def reduce_spaces(s):\n",
      "    return re.sub(\"[ ]{2,}\",\" \",s)\n",
      "\n",
      "def saveWardSales(ward=1,page=1,verbose=False):\n",
      "    last_page=999\n",
      "    page_dfs=[]\n",
      "    header = [\"ssl\",\"premise_address\",\"owner_name\",\"neighborhood\",\"sub_neighborhood\",\"use_code\",\n",
      "              \"sale_price\",\"recordation_date\",\"total_assessment\"]\n",
      "    br = mechanize.Browser()    \n",
      "    while page <= last_page:\n",
      "        if verbose and page % 10==0: print \"processing page %d\" % page\n",
      "        if page==1:\n",
      "            br.open(\"https://www.taxpayerservicecenter.com/RP_Results.jsp?search_type=Sales\")\n",
      "            br.select_form(name=\"SearchForm\")\n",
      "            br[\"selectWard\"]=[str(ward)]\n",
      "            resp = br.submit()\n",
      "            html = soup(resp.read(),\"html.parser\")\n",
      "\n",
      "            # set the number of pages to crawl for this ward\n",
      "            href=html.find(\"a\",text=\"last\").attrs['href']\n",
      "            m=re.search(r\"page=([0-9]*)\",href)\n",
      "            last_page = int(m.group(1))\n",
      "        else:\n",
      "            resp=br.open(\"https://www.taxpayerservicecenter.com/RP_Results.jsp?page=%d\"%page)\n",
      "            html = soup(resp.read(),\"html.parser\")    \n",
      "\n",
      "        table = html.find(\"table\",attrs={\"class\":\"\",\"border\":\"0\",\"cellpadding\":4,\"cellspacing\":2})\n",
      "        i = 0\n",
      "        rows=list()\n",
      "        for tr in table.find_all(\"tr\"):  \n",
      "            if i>0:\n",
      "                row = [clean_str(td.text) for td in tr.find_all(\"td\")]\n",
      "                values = row\n",
      "                row = { e[0]:e[1] for e in zip(header,values) }                \n",
      "                rows.append(row)\n",
      "            i+=1\n",
      "        page_dfs.append(pd.DataFrame(rows,dtype=str))\n",
      "        page += 1\n",
      "\n",
      "    ward_df = pd.concat(page_dfs,ignore_index=True)\n",
      "    ward_df.to_csv(\"ward%d.csv\" % (ward),index=False)\n",
      "    return ward_df\n",
      "\n",
      "def getDetails(ssl,br=None):\n",
      "    if br is None:\n",
      "        br = mechanize.Browser() \n",
      "        br.open(\"https://www.taxpayerservicecenter.com/RP_Results.jsp?search_type=Sales\")\n",
      "    resp = br.open(\"https://www.taxpayerservicecenter.com/RP_Detail.jsp?ssl=%s\" % (ssl.replace(\" \",'%20')))\n",
      "    html= soup(resp.read(),\"html.parser\")\n",
      "    tables = html.find_all(\"table\",attrs={\"cellspacing\":\"2\"})\n",
      "    items = {\"ssl\":ssl}\n",
      "    if tables>0:\n",
      "        for table in tables[:3]:    \n",
      "            for tr in table.find_all(\"tr\"):\n",
      "                capture_next=False\n",
      "                for td in tr.find_all(\"td\"):\n",
      "                    if not capture_next:\n",
      "                        capture_next = not (re.search(\":\",td.text) is None)\n",
      "                        label=td.text.replace(\":\",\"\")\n",
      "                    else:\n",
      "                        value = reduce_spaces(clean_str(td.text))\n",
      "                        value = value.replace(\"; \",\" \")\n",
      "                        items.update({label:value})\n",
      "                        capture_next=False\n",
      "    return items\n",
      "\n",
      "def getFeatures(ssl,br=None):\n",
      "    if br is None:\n",
      "        br = mechanize.Browser() \n",
      "        br.open(\"https://www.taxpayerservicecenter.com/RP_Results.jsp?search_type=Sales\")\n",
      "    resp = br.open(\"https://www.taxpayerservicecenter.com/weblogic/CAMA?ssl=%s\" % (ssl.replace(\" \",'%20')))\n",
      "    html= soup(resp.read(),\"html.parser\")\n",
      "    tables = html.find_all(\"table\",attrs={\"cellspacing\":\"2\",\"cellpadding\":\"2\",\"align\":\"left\"})\n",
      "    items = {\"ssl\":ssl}\n",
      "    if tables>0:\n",
      "        for table in tables[:3]:    \n",
      "            for tr in table.find_all(\"tr\"):\n",
      "                capture_next=False\n",
      "                for td in tr.find_all(\"td\"):\n",
      "                    if not capture_next:                        \n",
      "                        label=td.text\n",
      "                        capture_next=True\n",
      "                    else:\n",
      "                        value = reduce_spaces(clean_str(td.text))\n",
      "                        value = value.replace(\"; \",\" \")\n",
      "                        items.update({label:value})\n",
      "                        capture_next=False\n",
      "    return items\n",
      "\n",
      "def mapSave(f,obj,filename,chunk_size=100):\n",
      "    br = mechanize.Browser() \n",
      "    br.open(\"https://www.taxpayerservicecenter.com/RP_Results.jsp?search_type=Sales\")\n",
      "    dfs=list()\n",
      "    i=0\n",
      "    chunk = obj[i*chunk_size:(i+1)*chunk_size]\n",
      "    while len(chunk)>0:\n",
      "        dfs.append(pd.DataFrame([f(c,br) for c in chunk]))\n",
      "        pd.concat(dfs,ignore_index=True).to_csv(filename,index=False)\n",
      "        i += 1\n",
      "        chunk = obj[i*chunk_size:(i+1)*chunk_size]\n",
      "\n",
      "class Status(object):\n",
      "    \n",
      "    def __init__(self,iterable):\n",
      "        self.n = float(len(iterable))\n",
      "        self.i = 0\n",
      "        \n",
      "    def pprint(self,every=100):\n",
      "        if self.i % every == 0: print \"completed %02.4f%%\" % (self.i/self.n)\n",
      "        self.i += 1\n",
      "        return True\n",
      "\n",
      "    "
     ],
     "language": "python",
     "metadata": {},
     "outputs": []
    },
    {
     "cell_type": "code",
     "collapsed": false,
     "input": [
      "# search by ward\n",
      "sales = list()\n",
      "for ward in range(1,9):\n",
      "    print \"processing ward %d\" % ward\n",
      "    sales.append(saveWardSales(ward=ward))\n",
      "\n"
     ],
     "language": "python",
     "metadata": {},
     "outputs": [
      {
       "output_type": "stream",
       "stream": "stdout",
       "text": [
        "processing ward 1\n",
        "processing ward 2"
       ]
      },
      {
       "output_type": "stream",
       "stream": "stdout",
       "text": [
        "\n",
        "processing ward 3"
       ]
      },
      {
       "output_type": "stream",
       "stream": "stdout",
       "text": [
        "\n",
        "processing ward 4"
       ]
      },
      {
       "output_type": "stream",
       "stream": "stdout",
       "text": [
        "\n",
        "processing ward 5"
       ]
      },
      {
       "output_type": "stream",
       "stream": "stdout",
       "text": [
        "\n",
        "processing ward 6"
       ]
      },
      {
       "output_type": "stream",
       "stream": "stdout",
       "text": [
        "\n",
        "processing ward 7"
       ]
      },
      {
       "output_type": "stream",
       "stream": "stdout",
       "text": [
        "\n",
        "processing ward 8"
       ]
      },
      {
       "output_type": "stream",
       "stream": "stdout",
       "text": [
        "\n"
       ]
      }
     ],
     "prompt_number": 66
    },
    {
     "cell_type": "code",
     "collapsed": false,
     "input": [
      "all_wards = pd.concat(sales,ignore_index=True)\n",
      "all_wards.to_csv(\"sales.csv\",index=False)"
     ],
     "language": "python",
     "metadata": {},
     "outputs": [],
     "prompt_number": 72
    },
    {
     "cell_type": "code",
     "collapsed": false,
     "input": [],
     "language": "python",
     "metadata": {},
     "outputs": [],
     "prompt_number": 199
    },
    {
     "cell_type": "code",
     "collapsed": true,
     "input": [
      "all_wards = pd.read_csv(\"sales.csv\")\n",
      "ssls=all_wards['ssl']\n",
      "n=len(ssl)\n",
      "i=0\n",
      "br = mechanize.Browser() \n",
      "br.open(\"https://www.taxpayerservicecenter.com/RP_Results.jsp?search_type=Sales\")\n",
      "ssls = ssls[:50]\n",
      "s = Status(ssls)\n",
      "details = [ getDetails(ssl,br) for ssl in ssls if s.pprint(200) ]    "
     ],
     "language": "python",
     "metadata": {},
     "outputs": [
      {
       "output_type": "stream",
       "stream": "stdout",
       "text": [
        "completed 0.00%\n"
       ]
      }
     ],
     "prompt_number": 196
    },
    {
     "cell_type": "code",
     "collapsed": false,
     "input": [
      "pd.DataFrame(details,dtype=str).to_csv(\"details.csv\",index=False)"
     ],
     "language": "python",
     "metadata": {},
     "outputs": [],
     "prompt_number": 197
    },
    {
     "cell_type": "code",
     "collapsed": false,
     "input": [
      "pd.DataFrame(details,dtype=str)['Mailing Address'][:5]"
     ],
     "language": "python",
     "metadata": {},
     "outputs": [
      {
       "metadata": {},
       "output_type": "pyout",
       "prompt_number": 198,
       "text": [
        "0           1701 V ST NW WASHINGTON DC20009-2610\n",
        "1           PO BOX 34181 WASHINGTON DC20043-4181\n",
        "2    1702 FLORIDA AVE NW WASHINGTON DC20009-2622\n",
        "3           2119 R ST NW WASHINGTON DC20008-1908\n",
        "4     912 ALABAMA AVE SE WASHINGTON DC20032-4247\n",
        "Name: Mailing Address, dtype: object"
       ]
      }
     ],
     "prompt_number": 198
    },
    {
     "cell_type": "code",
     "collapsed": false,
     "input": [
      "all_wards = pd.read_csv(\"sales.csv\")\n",
      "ssls=all_wards['ssl']\n",
      "mapSave(getFeatures,ssls,\"features.csv\")    "
     ],
     "language": "python",
     "metadata": {},
     "outputs": []
    },
    {
     "cell_type": "code",
     "collapsed": false,
     "input": [
      "all_wards = pd.read_csv(\"sales.csv\")\n",
      "ssls=all_wards['ssl']\n",
      "mapSave(getDetails,ssls,\"details.csv\")    "
     ],
     "language": "python",
     "metadata": {},
     "outputs": []
    },
    {
     "cell_type": "code",
     "collapsed": false,
     "input": [],
     "language": "python",
     "metadata": {},
     "outputs": []
    }
   ],
   "metadata": {}
  }
 ]
}