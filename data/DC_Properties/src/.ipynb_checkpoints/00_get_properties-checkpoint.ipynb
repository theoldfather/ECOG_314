{
 "cells": [
  {
   "cell_type": "markdown",
   "metadata": {},
   "source": [
    "# DC Properties"
   ]
  },
  {
   "cell_type": "code",
   "execution_count": 61,
   "metadata": {
    "collapsed": false
   },
   "outputs": [],
   "source": [
    "import requests as r\n",
    "import mechanize\n",
    "from bs4 import BeautifulSoup as soup\n",
    "import json\n",
    "import pandas as pd\n",
    "\n",
    "def clean_str(s):\n",
    "    return s.replace(\"\\n\",\" \").replace(\"\\s*\",\" \").strip()"
   ]
  },
  {
   "cell_type": "code",
   "execution_count": 63,
   "metadata": {
    "collapsed": false
   },
   "outputs": [],
   "source": [
    "def getPages(br,ward=1,page=1):\n",
    "    if page>1:\n",
    "        resp = br.open(\"https://www.taxpayerservicecenter.com/RP_Results.jsp?page=%d\" % page)\n",
    "    html = soup(resp.read(),\"html.parser\")\n",
    "    table = html.find(\"table\",attrs={\"class\":\"\",\"border\":\"0\",\"cellpadding\":4,\"cellspacing\":2})\n",
    "    if len(table)>0:\n",
    "        i = 0\n",
    "        rows=list()\n",
    "        for tr in table.find_all(\"tr\"):  \n",
    "            if i==0:\n",
    "                header = [clean_str(td.text) for td in tr.find_all(\"th\")]\n",
    "            else:\n",
    "                row = [clean_str(td.text) for td in tr.find_all(\"td\")]\n",
    "                values = row\n",
    "                row = { e[0]:e[1] for e in zip(header,values) }\n",
    "                #print row\n",
    "            rows.append(row)\n",
    "            i+=1\n",
    "        pd.DataFrame(rows,dtype=str).to_csv(\"ward%d_%03d.csv\" % (ward,page) )\n",
    "        getPages(br,ward,page+1)\n",
    "    \n",
    "        "
   ]
  },
  {
   "cell_type": "code",
   "execution_count": 27,
   "metadata": {
    "collapsed": false
   },
   "outputs": [],
   "source": [
    "# search by ward\n",
    "br = mechanize.Browser()\n",
    "br.open(\"https://www.taxpayerservicecenter.com/RP_Results.jsp?search_type=Sales\")\n",
    "br.select_form(name=\"SearchForm\")\n",
    "br[\"selectWard\"]=[\"1\"]\n",
    "resp=br.submit()\n",
    "getPages(br)\n"
   ]
  },
  {
   "cell_type": "code",
   "execution_count": 84,
   "metadata": {
    "collapsed": false
   },
   "outputs": [],
   "source": [
    "with open(\"out.html\",\"w+\") as f:\n",
    "    f.write(html.prettify())"
   ]
  },
  {
   "cell_type": "code",
   "execution_count": null,
   "metadata": {
    "collapsed": true
   },
   "outputs": [],
   "source": []
  }
 ],
 "metadata": {
  "anaconda-cloud": {},
  "kernelspec": {
   "display_name": "Python [Root]",
   "language": "python",
   "name": "Python [Root]"
  },
  "language_info": {
   "codemirror_mode": {
    "name": "ipython",
    "version": 2
   },
   "file_extension": ".py",
   "mimetype": "text/x-python",
   "name": "python",
   "nbconvert_exporter": "python",
   "pygments_lexer": "ipython2",
   "version": "2.7.12"
  }
 },
 "nbformat": 4,
 "nbformat_minor": 0
}
